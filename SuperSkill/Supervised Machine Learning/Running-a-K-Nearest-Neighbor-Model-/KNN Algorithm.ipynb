{
 "cells": [
  {
   "cell_type": "code",
   "execution_count": 1,
   "metadata": {},
   "outputs": [],
   "source": [
    "import pandas as pd\n",
    "import numpy as np\n",
    "#convert csv to data frame\n",
    "df = pd.read_csv('glass.csv')\n",
    "#created first dataframe for train_test_split, containing relevent features\n",
    "df1 = df.drop(columns=['Type', 'RI'])\n",
    "#DataFrame / Series containing my output Types\n",
    "df2 = df['Type'].to_frame()\n",
    "# import and run train test split\n",
    "from sklearn.model_selection import train_test_split\n",
    "X_train, X_test, y_train, y_test = train_test_split(df1, df2, test_size = 0.2)"
   ]
  },
  {
   "cell_type": "code",
   "execution_count": 2,
   "metadata": {},
   "outputs": [
    {
     "data": {
      "text/html": [
       "<div>\n",
       "<style scoped>\n",
       "    .dataframe tbody tr th:only-of-type {\n",
       "        vertical-align: middle;\n",
       "    }\n",
       "\n",
       "    .dataframe tbody tr th {\n",
       "        vertical-align: top;\n",
       "    }\n",
       "\n",
       "    .dataframe thead th {\n",
       "        text-align: right;\n",
       "    }\n",
       "</style>\n",
       "<table border=\"1\" class=\"dataframe\">\n",
       "  <thead>\n",
       "    <tr style=\"text-align: right;\">\n",
       "      <th></th>\n",
       "      <th>Na</th>\n",
       "      <th>Mg</th>\n",
       "      <th>Al</th>\n",
       "      <th>Si</th>\n",
       "      <th>K</th>\n",
       "      <th>Ca</th>\n",
       "      <th>Ba</th>\n",
       "      <th>Fe</th>\n",
       "    </tr>\n",
       "  </thead>\n",
       "  <tbody>\n",
       "    <tr>\n",
       "      <th>0</th>\n",
       "      <td>2.209648</td>\n",
       "      <td>-1.890714</td>\n",
       "      <td>1.682214</td>\n",
       "      <td>1.107151</td>\n",
       "      <td>-0.725656</td>\n",
       "      <td>-0.463664</td>\n",
       "      <td>1.109099</td>\n",
       "      <td>-0.591185</td>\n",
       "    </tr>\n",
       "    <tr>\n",
       "      <th>1</th>\n",
       "      <td>-0.623514</td>\n",
       "      <td>-1.890714</td>\n",
       "      <td>0.823470</td>\n",
       "      <td>1.596591</td>\n",
       "      <td>0.648682</td>\n",
       "      <td>0.752856</td>\n",
       "      <td>-0.312305</td>\n",
       "      <td>-0.591185</td>\n",
       "    </tr>\n",
       "    <tr>\n",
       "      <th>2</th>\n",
       "      <td>-0.425564</td>\n",
       "      <td>0.651401</td>\n",
       "      <td>-0.750892</td>\n",
       "      <td>-0.386927</td>\n",
       "      <td>0.181124</td>\n",
       "      <td>0.061500</td>\n",
       "      <td>-0.312305</td>\n",
       "      <td>0.931295</td>\n",
       "    </tr>\n",
       "    <tr>\n",
       "      <th>3</th>\n",
       "      <td>-0.450308</td>\n",
       "      <td>0.637356</td>\n",
       "      <td>-0.137504</td>\n",
       "      <td>0.450272</td>\n",
       "      <td>0.081945</td>\n",
       "      <td>-0.423778</td>\n",
       "      <td>-0.312305</td>\n",
       "      <td>0.525300</td>\n",
       "    </tr>\n",
       "    <tr>\n",
       "      <th>4</th>\n",
       "      <td>0.527071</td>\n",
       "      <td>-0.198311</td>\n",
       "      <td>-0.485091</td>\n",
       "      <td>0.154033</td>\n",
       "      <td>-0.725656</td>\n",
       "      <td>0.486950</td>\n",
       "      <td>-0.312305</td>\n",
       "      <td>-0.591185</td>\n",
       "    </tr>\n",
       "  </tbody>\n",
       "</table>\n",
       "</div>"
      ],
      "text/plain": [
       "         Na        Mg        Al        Si         K        Ca        Ba  \\\n",
       "0  2.209648 -1.890714  1.682214  1.107151 -0.725656 -0.463664  1.109099   \n",
       "1 -0.623514 -1.890714  0.823470  1.596591  0.648682  0.752856 -0.312305   \n",
       "2 -0.425564  0.651401 -0.750892 -0.386927  0.181124  0.061500 -0.312305   \n",
       "3 -0.450308  0.637356 -0.137504  0.450272  0.081945 -0.423778 -0.312305   \n",
       "4  0.527071 -0.198311 -0.485091  0.154033 -0.725656  0.486950 -0.312305   \n",
       "\n",
       "         Fe  \n",
       "0 -0.591185  \n",
       "1 -0.591185  \n",
       "2  0.931295  \n",
       "3  0.525300  \n",
       "4 -0.591185  "
      ]
     },
     "execution_count": 2,
     "metadata": {},
     "output_type": "execute_result"
    }
   ],
   "source": [
    "from sklearn.preprocessing import StandardScaler\n",
    "#Instantiate the scaler\n",
    "scaler = StandardScaler()\n",
    "#scaled train data, followed by scaled test data as arrays\n",
    "scaled_data_train = scaler.fit_transform(X_train)\n",
    "scaled_data_test = scaler.transform(X_test)\n",
    "#convert the trained data array to dataframe with columns from df1\n",
    "scaled_df_train = pd.DataFrame(scaled_data_train, columns=df1.columns)\n",
    "scaled_df_train.head()"
   ]
  },
  {
   "cell_type": "code",
   "execution_count": 3,
   "metadata": {},
   "outputs": [
    {
     "name": "stderr",
     "output_type": "stream",
     "text": [
      "/home/alatrech/anaconda3/lib/python3.7/site-packages/ipykernel_launcher.py:5: DataConversionWarning: A column-vector y was passed when a 1d array was expected. Please change the shape of y to (n_samples, ), for example using ravel().\n",
      "  \"\"\"\n"
     ]
    },
    {
     "data": {
      "text/plain": [
       "array([1, 1, 1, 2, 2, 1, 2, 2, 3, 1, 7, 7, 7, 2, 1, 6, 7, 1, 2, 1, 2, 1,\n",
       "       2, 2, 1, 7, 7, 1, 2, 1, 1, 1, 1, 1, 1, 7, 7, 2, 2, 7, 1, 1, 7])"
      ]
     },
     "execution_count": 3,
     "metadata": {},
     "output_type": "execute_result"
    }
   ],
   "source": [
    "from sklearn.neighbors import KNeighborsClassifier #import knn\n",
    "# instantiate knn\n",
    "clf = KNeighborsClassifier(n_neighbors=1)\n",
    "# fit classifier into your model\n",
    "clf.fit(scaled_data_train, y_train)\n",
    "# When I did clf.fit over here, I created the model and trained it for future iterations\n",
    "#output is an array of the predicted types of glass\n",
    "test_preds = clf.predict(scaled_data_test)\n",
    "#test preds will be used to analyze the model's performance\n",
    "test_preds"
   ]
  },
  {
   "cell_type": "code",
   "execution_count": null,
   "metadata": {},
   "outputs": [],
   "source": [
    "from sklearn.metrics import precision_score, recall_score, accuracy_score, f1_score\n",
    "def print_metrics(labels, preds):\n",
    "    print(\"Precision Score: {}\".format(precision_score(labels, preds, average = 'macro')))\n",
    "    print(\"Recall Score: {}\".format(recall_score(labels, preds, average = 'macro')))\n",
    "    print(\"Accuracy Score: {}\".format(accuracy_score(labels, preds)))\n",
    "    print(\"F1 Score: {}\".format(f1_score(labels, preds, average = 'macro')))\n",
    "    \n",
    "print_metrics(y_test, test_preds) # comparing my actual vs predicted"
   ]
  }
 ],
 "metadata": {
  "kernelspec": {
   "display_name": "Python 3",
   "language": "python",
   "name": "python3"
  },
  "language_info": {
   "codemirror_mode": {
    "name": "ipython",
    "version": 3
   },
   "file_extension": ".py",
   "mimetype": "text/x-python",
   "name": "python",
   "nbconvert_exporter": "python",
   "pygments_lexer": "ipython3",
   "version": "3.7.6"
  }
 },
 "nbformat": 4,
 "nbformat_minor": 4
}
