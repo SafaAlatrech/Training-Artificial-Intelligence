{
 "cells": [
  {
   "cell_type": "code",
   "execution_count": 1,
   "metadata": {},
   "outputs": [
    {
     "name": "stdout",
     "output_type": "stream",
     "text": [
      "Enter the number: 5\n",
      "factorial of  5  (iterative): Enter a number: 5\n",
      "120\n"
     ]
    }
   ],
   "source": [
    "def iter_factorial(n):\n",
    "    factorial=1\n",
    "    n = input(\"Enter a number: \")\n",
    "    factorial = 1\n",
    "    if int(n) >= 1:\n",
    "        for i in range (1,int(n)+1):\n",
    "            factorial = factorial * i\n",
    "        return factorial\n",
    "  \n",
    "num=int(input(\"Enter the number: \"))\n",
    "\n",
    "print(\"factorial of \",num,\" (iterative): \",end=\"\")\n",
    "print(iter_factorial(num))\n"
   ]
  },
  {
   "cell_type": "code",
   "execution_count": null,
   "metadata": {},
   "outputs": [],
   "source": []
  }
 ],
 "metadata": {
  "kernelspec": {
   "display_name": "Python 3",
   "language": "python",
   "name": "python3"
  },
  "language_info": {
   "codemirror_mode": {
    "name": "ipython",
    "version": 3
   },
   "file_extension": ".py",
   "mimetype": "text/x-python",
   "name": "python",
   "nbconvert_exporter": "python",
   "pygments_lexer": "ipython3",
   "version": "3.8.5"
  }
 },
 "nbformat": 4,
 "nbformat_minor": 4
}
