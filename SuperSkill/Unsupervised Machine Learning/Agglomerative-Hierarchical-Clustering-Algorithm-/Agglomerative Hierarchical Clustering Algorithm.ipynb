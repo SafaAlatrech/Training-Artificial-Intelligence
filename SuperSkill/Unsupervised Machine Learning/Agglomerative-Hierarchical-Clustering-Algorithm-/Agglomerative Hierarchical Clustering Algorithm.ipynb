{
 "cells": [
  {
   "cell_type": "code",
   "execution_count": 2,
   "metadata": {},
   "outputs": [],
   "source": [
    "#creating dummy data\n",
    "import pandas as pd\n",
    "dummy = pd.DataFrame([[30,100,5],\n",
    "              [18, 200, 2],\n",
    "              [35, 150, 7],\n",
    "             [48, 300, 4],\n",
    "             [50, 200, 6]], index = ['Anne', 'Ben', 'Chad', 'Dave', 'Eric'], columns =['Age', 'Expense($)', 'Distance(KM)'])"
   ]
  },
  {
   "cell_type": "code",
   "execution_count": 3,
   "metadata": {},
   "outputs": [
    {
     "data": {
      "text/html": [
       "<div>\n",
       "<style scoped>\n",
       "    .dataframe tbody tr th:only-of-type {\n",
       "        vertical-align: middle;\n",
       "    }\n",
       "\n",
       "    .dataframe tbody tr th {\n",
       "        vertical-align: top;\n",
       "    }\n",
       "\n",
       "    .dataframe thead th {\n",
       "        text-align: right;\n",
       "    }\n",
       "</style>\n",
       "<table border=\"1\" class=\"dataframe\">\n",
       "  <thead>\n",
       "    <tr style=\"text-align: right;\">\n",
       "      <th></th>\n",
       "      <th>Anne</th>\n",
       "      <th>Ben</th>\n",
       "      <th>Chad</th>\n",
       "      <th>Dave</th>\n",
       "      <th>Eric</th>\n",
       "    </tr>\n",
       "  </thead>\n",
       "  <tbody>\n",
       "    <tr>\n",
       "      <th>Anne</th>\n",
       "      <td>0.00</td>\n",
       "      <td>100.76</td>\n",
       "      <td>50.29</td>\n",
       "      <td>200.81</td>\n",
       "      <td>101.99</td>\n",
       "    </tr>\n",
       "    <tr>\n",
       "      <th>Ben</th>\n",
       "      <td>100.76</td>\n",
       "      <td>0.00</td>\n",
       "      <td>53.05</td>\n",
       "      <td>104.42</td>\n",
       "      <td>32.25</td>\n",
       "    </tr>\n",
       "    <tr>\n",
       "      <th>Chad</th>\n",
       "      <td>50.29</td>\n",
       "      <td>53.05</td>\n",
       "      <td>0.00</td>\n",
       "      <td>150.59</td>\n",
       "      <td>52.21</td>\n",
       "    </tr>\n",
       "    <tr>\n",
       "      <th>Dave</th>\n",
       "      <td>200.81</td>\n",
       "      <td>104.42</td>\n",
       "      <td>150.59</td>\n",
       "      <td>0.00</td>\n",
       "      <td>100.04</td>\n",
       "    </tr>\n",
       "    <tr>\n",
       "      <th>Eric</th>\n",
       "      <td>101.99</td>\n",
       "      <td>32.25</td>\n",
       "      <td>52.21</td>\n",
       "      <td>100.04</td>\n",
       "      <td>0.00</td>\n",
       "    </tr>\n",
       "  </tbody>\n",
       "</table>\n",
       "</div>"
      ],
      "text/plain": [
       "        Anne     Ben    Chad    Dave    Eric\n",
       "Anne    0.00  100.76   50.29  200.81  101.99\n",
       "Ben   100.76    0.00   53.05  104.42   32.25\n",
       "Chad   50.29   53.05    0.00  150.59   52.21\n",
       "Dave  200.81  104.42  150.59    0.00  100.04\n",
       "Eric  101.99   32.25   52.21  100.04    0.00"
      ]
     },
     "execution_count": 3,
     "metadata": {},
     "output_type": "execute_result"
    }
   ],
   "source": [
    "import numpy as np\n",
    "from scipy.spatial import distance_matrix\n",
    "#distance_matrix from scipy.spatial would calculate the distance between data point based on euclidean distance, and I round it to 2 decimal\n",
    "pd.DataFrame(np.round(distance_matrix(dummy.values, dummy.values), 2), index = dummy.index, columns = dummy.index)"
   ]
  },
  {
   "cell_type": "code",
   "execution_count": 4,
   "metadata": {},
   "outputs": [
    {
     "data": {
      "image/png": "[encoded data removed]",
      "text/plain": [
       "<Figure size 432x288 with 1 Axes>"
      ]
     },
     "metadata": {
      "needs_background": "light"
     },
     "output_type": "display_data"
    }
   ],
   "source": [
    "#importing linkage and denrogram from scipy\n",
    "from scipy.cluster.hierarchy import linkage, dendrogram\n",
    "import matplotlib.pyplot as plt\n",
    "#creating dendrogram based on the dummy data with single linkage criterion\n",
    "den = dendrogram(linkage(dummy, method='single'), \n",
    "labels = dummy.index)\n",
    "plt.ylabel('Euclidean Distance', fontsize = 14)\n",
    "plt.title('Dendrogram of the Dummy Data')\n",
    "plt.show()"
   ]
  },
  {
   "cell_type": "code",
   "execution_count": null,
   "metadata": {},
   "outputs": [],
   "source": []
  }
 ],
 "metadata": {
  "kernelspec": {
   "display_name": "Python 3",
   "language": "python",
   "name": "python3"
  },
  "language_info": {
   "codemirror_mode": {
    "name": "ipython",
    "version": 3
   },
   "file_extension": ".py",
   "mimetype": "text/x-python",
   "name": "python",
   "nbconvert_exporter": "python",
   "pygments_lexer": "ipython3",
   "version": "3.7.6"
  }
 },
 "nbformat": 4,
 "nbformat_minor": 4
}
